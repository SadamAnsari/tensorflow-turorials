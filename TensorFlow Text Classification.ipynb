{
 "cells": [
  {
   "cell_type": "code",
   "execution_count": 1,
   "metadata": {},
   "outputs": [],
   "source": [
    "import numpy as np # linear algebra\n",
    "import seaborn as sns\n",
    "import pandas as pd # data processing, CSV file I/O (e.g. pd.read_csv)\n",
    "import matplotlib.pyplot as plt\n",
    "import tensorflow as tf"
   ]
  },
  {
   "cell_type": "markdown",
   "metadata": {},
   "source": [
    "### Data pre-processing"
   ]
  },
  {
   "cell_type": "code",
   "execution_count": 7,
   "metadata": {},
   "outputs": [],
   "source": [
    "tweets = pd.read_csv('socialmedia-disaster-tweets.csv', encoding='ansi')"
   ]
  },
  {
   "cell_type": "code",
   "execution_count": 8,
   "metadata": {
    "scrolled": true
   },
   "outputs": [
    {
     "data": {
      "text/html": [
       "<div>\n",
       "<style scoped>\n",
       "    .dataframe tbody tr th:only-of-type {\n",
       "        vertical-align: middle;\n",
       "    }\n",
       "\n",
       "    .dataframe tbody tr th {\n",
       "        vertical-align: top;\n",
       "    }\n",
       "\n",
       "    .dataframe thead th {\n",
       "        text-align: right;\n",
       "    }\n",
       "</style>\n",
       "<table border=\"1\" class=\"dataframe\">\n",
       "  <thead>\n",
       "    <tr style=\"text-align: right;\">\n",
       "      <th></th>\n",
       "      <th>_unit_id</th>\n",
       "      <th>_golden</th>\n",
       "      <th>_unit_state</th>\n",
       "      <th>_trusted_judgments</th>\n",
       "      <th>_last_judgment_at</th>\n",
       "      <th>choose_one</th>\n",
       "      <th>choose_one:confidence</th>\n",
       "      <th>choose_one_gold</th>\n",
       "      <th>keyword</th>\n",
       "      <th>location</th>\n",
       "      <th>text</th>\n",
       "      <th>tweetid</th>\n",
       "      <th>userid</th>\n",
       "    </tr>\n",
       "  </thead>\n",
       "  <tbody>\n",
       "    <tr>\n",
       "      <th>0</th>\n",
       "      <td>778243823</td>\n",
       "      <td>True</td>\n",
       "      <td>golden</td>\n",
       "      <td>156</td>\n",
       "      <td>NaN</td>\n",
       "      <td>Relevant</td>\n",
       "      <td>1.0000</td>\n",
       "      <td>Relevant</td>\n",
       "      <td>NaN</td>\n",
       "      <td>NaN</td>\n",
       "      <td>Just happened a terrible car crash</td>\n",
       "      <td>1.0</td>\n",
       "      <td>NaN</td>\n",
       "    </tr>\n",
       "    <tr>\n",
       "      <th>1</th>\n",
       "      <td>778243824</td>\n",
       "      <td>True</td>\n",
       "      <td>golden</td>\n",
       "      <td>152</td>\n",
       "      <td>NaN</td>\n",
       "      <td>Relevant</td>\n",
       "      <td>1.0000</td>\n",
       "      <td>Relevant</td>\n",
       "      <td>NaN</td>\n",
       "      <td>NaN</td>\n",
       "      <td>Our Deeds are the Reason of this #earthquake M...</td>\n",
       "      <td>13.0</td>\n",
       "      <td>NaN</td>\n",
       "    </tr>\n",
       "    <tr>\n",
       "      <th>2</th>\n",
       "      <td>778243825</td>\n",
       "      <td>True</td>\n",
       "      <td>golden</td>\n",
       "      <td>137</td>\n",
       "      <td>NaN</td>\n",
       "      <td>Relevant</td>\n",
       "      <td>1.0000</td>\n",
       "      <td>Relevant</td>\n",
       "      <td>NaN</td>\n",
       "      <td>NaN</td>\n",
       "      <td>Heard about #earthquake is different cities, s...</td>\n",
       "      <td>14.0</td>\n",
       "      <td>NaN</td>\n",
       "    </tr>\n",
       "    <tr>\n",
       "      <th>3</th>\n",
       "      <td>778243826</td>\n",
       "      <td>True</td>\n",
       "      <td>golden</td>\n",
       "      <td>136</td>\n",
       "      <td>NaN</td>\n",
       "      <td>Relevant</td>\n",
       "      <td>0.9603</td>\n",
       "      <td>Relevant</td>\n",
       "      <td>NaN</td>\n",
       "      <td>NaN</td>\n",
       "      <td>there is a forest fire at spot pond, geese are...</td>\n",
       "      <td>15.0</td>\n",
       "      <td>NaN</td>\n",
       "    </tr>\n",
       "    <tr>\n",
       "      <th>4</th>\n",
       "      <td>778243827</td>\n",
       "      <td>True</td>\n",
       "      <td>golden</td>\n",
       "      <td>138</td>\n",
       "      <td>NaN</td>\n",
       "      <td>Relevant</td>\n",
       "      <td>1.0000</td>\n",
       "      <td>Relevant</td>\n",
       "      <td>NaN</td>\n",
       "      <td>NaN</td>\n",
       "      <td>Forest fire near La Ronge Sask. Canada</td>\n",
       "      <td>16.0</td>\n",
       "      <td>NaN</td>\n",
       "    </tr>\n",
       "  </tbody>\n",
       "</table>\n",
       "</div>"
      ],
      "text/plain": [
       "    _unit_id  _golden _unit_state  _trusted_judgments _last_judgment_at  \\\n",
       "0  778243823     True      golden                 156               NaN   \n",
       "1  778243824     True      golden                 152               NaN   \n",
       "2  778243825     True      golden                 137               NaN   \n",
       "3  778243826     True      golden                 136               NaN   \n",
       "4  778243827     True      golden                 138               NaN   \n",
       "\n",
       "  choose_one  choose_one:confidence choose_one_gold keyword location  \\\n",
       "0   Relevant                 1.0000        Relevant     NaN      NaN   \n",
       "1   Relevant                 1.0000        Relevant     NaN      NaN   \n",
       "2   Relevant                 1.0000        Relevant     NaN      NaN   \n",
       "3   Relevant                 0.9603        Relevant     NaN      NaN   \n",
       "4   Relevant                 1.0000        Relevant     NaN      NaN   \n",
       "\n",
       "                                                text  tweetid  userid  \n",
       "0                 Just happened a terrible car crash      1.0     NaN  \n",
       "1  Our Deeds are the Reason of this #earthquake M...     13.0     NaN  \n",
       "2  Heard about #earthquake is different cities, s...     14.0     NaN  \n",
       "3  there is a forest fire at spot pond, geese are...     15.0     NaN  \n",
       "4             Forest fire near La Ronge Sask. Canada     16.0     NaN  "
      ]
     },
     "execution_count": 8,
     "metadata": {},
     "output_type": "execute_result"
    }
   ],
   "source": [
    "tweets.head()"
   ]
  },
  {
   "cell_type": "code",
   "execution_count": 9,
   "metadata": {},
   "outputs": [],
   "source": [
    "tweets = tweets.drop(labels=['_unit_id', '_golden', '_unit_state', '_trusted_judgments', '_last_judgment_at', 'choose_one:confidence', 'choose_one_gold', 'keyword', 'location', 'tweetid', 'userid'], axis=1)"
   ]
  },
  {
   "cell_type": "markdown",
   "metadata": {},
   "source": [
    "Let's convert String category variables to Integer category variables."
   ]
  },
  {
   "cell_type": "code",
   "execution_count": 10,
   "metadata": {},
   "outputs": [],
   "source": [
    "tweets.choose_one = tweets.choose_one.replace(to_replace=['Relevant', 'Not Relevant', 'Can\\'t Decide'], value=[1, 0, 0])"
   ]
  },
  {
   "cell_type": "code",
   "execution_count": 11,
   "metadata": {},
   "outputs": [
    {
     "data": {
      "text/html": [
       "<div>\n",
       "<style scoped>\n",
       "    .dataframe tbody tr th:only-of-type {\n",
       "        vertical-align: middle;\n",
       "    }\n",
       "\n",
       "    .dataframe tbody tr th {\n",
       "        vertical-align: top;\n",
       "    }\n",
       "\n",
       "    .dataframe thead th {\n",
       "        text-align: right;\n",
       "    }\n",
       "</style>\n",
       "<table border=\"1\" class=\"dataframe\">\n",
       "  <thead>\n",
       "    <tr style=\"text-align: right;\">\n",
       "      <th></th>\n",
       "      <th>choose_one</th>\n",
       "      <th>text</th>\n",
       "    </tr>\n",
       "  </thead>\n",
       "  <tbody>\n",
       "    <tr>\n",
       "      <th>0</th>\n",
       "      <td>1</td>\n",
       "      <td>Just happened a terrible car crash</td>\n",
       "    </tr>\n",
       "    <tr>\n",
       "      <th>1</th>\n",
       "      <td>1</td>\n",
       "      <td>Our Deeds are the Reason of this #earthquake M...</td>\n",
       "    </tr>\n",
       "    <tr>\n",
       "      <th>2</th>\n",
       "      <td>1</td>\n",
       "      <td>Heard about #earthquake is different cities, s...</td>\n",
       "    </tr>\n",
       "    <tr>\n",
       "      <th>3</th>\n",
       "      <td>1</td>\n",
       "      <td>there is a forest fire at spot pond, geese are...</td>\n",
       "    </tr>\n",
       "    <tr>\n",
       "      <th>4</th>\n",
       "      <td>1</td>\n",
       "      <td>Forest fire near La Ronge Sask. Canada</td>\n",
       "    </tr>\n",
       "  </tbody>\n",
       "</table>\n",
       "</div>"
      ],
      "text/plain": [
       "   choose_one                                               text\n",
       "0           1                 Just happened a terrible car crash\n",
       "1           1  Our Deeds are the Reason of this #earthquake M...\n",
       "2           1  Heard about #earthquake is different cities, s...\n",
       "3           1  there is a forest fire at spot pond, geese are...\n",
       "4           1             Forest fire near La Ronge Sask. Canada"
      ]
     },
     "execution_count": 11,
     "metadata": {},
     "output_type": "execute_result"
    }
   ],
   "source": [
    "tweets.head()"
   ]
  },
  {
   "cell_type": "markdown",
   "metadata": {},
   "source": [
    "### Build Vocabulary"
   ]
  },
  {
   "cell_type": "code",
   "execution_count": 12,
   "metadata": {},
   "outputs": [],
   "source": [
    "vocabulary = []\n",
    "\n",
    "all_tweets = tweets.text.values"
   ]
  },
  {
   "cell_type": "code",
   "execution_count": 19,
   "metadata": {},
   "outputs": [
    {
     "name": "stdout",
     "output_type": "stream",
     "text": [
      "['Just happened a terrible car crash'\n",
      " 'Our Deeds are the Reason of this #earthquake May ALLAH Forgive us all'\n",
      " 'Heard about #earthquake is different cities, stay safe everyone.'\n",
      " 'there is a forest fire at spot pond, geese are fleeing across the street, I cannot save them all'\n",
      " 'Forest fire near La Ronge Sask. Canada'\n",
      " \"All residents asked to 'shelter in place' are being notified by officers. No other evacuation or shelter in place orders are expected\"\n",
      " '13,000 people receive #wildfires evacuation orders in California '\n",
      " 'Just got sent this photo from Ruby #Alaska as smoke from #wildfires pours into a school '\n",
      " '#RockyFire Update => California Hwy. 20 closed in both directions due to Lake County fire - #CAfire #wildfires'\n",
      " 'Apocalypse lighting. #Spokane #wildfires'\n",
      " '#flood #disaster Heavy rain causes flash flooding of streets in Manitou, Colorado Springs areas'\n",
      " 'Typhoon Soudelor kills 28 in China and Taiwan'\n",
      " \"We're shaking...It's an earthquake\"\n",
      " \"I'm on top of the hill and I can see a fire in the woods...\"\n",
      " \"There's an emergency evacuation happening now in the building across the street\"\n",
      " \"I'm afraid that the tornado is coming to our area...\"\n",
      " 'Three people died from the heat wave so far'\n",
      " 'Haha South Tampa is getting flooded hah- WAIT A SECOND I LIVE IN SOUTH TAMPA WHAT AM I GONNA DO WHAT AM I GONNA DO FVCK #flooding'\n",
      " \"#raining #flooding #Florida #TampaBay #Tampa 18 or 19 days. I've lost count \"\n",
      " '#Flood in Bago Myanmar #We arrived Bago'\n",
      " 'Damage to school bus on 80 in multi car crash #BREAKING '\n",
      " \"They'd probably still show more life than Arsenal did yesterday, eh? EH?\"\n",
      " 'Hey! How are you?' \"What's up man?\" 'I love fruits' 'Summer is lovely'\n",
      " 'My car is so fast' 'What a nice hat?' 'What a goooooooaaaaaal!!!!!!'\n",
      " 'Fuck off!' \"No I don't like cold!\" 'this is ridiculous....'\n",
      " 'London is cool ;)' 'Love skiing' 'What a wonderful day!'\n",
      " \"NOOOOOOOOO! Don't do that!\" 'LOOOOOOL' \"No way...I can't eat that shit\"\n",
      " 'Was in NYC last week!' 'Love my girlfriend' 'Cooool :)'\n",
      " 'Do you like pasta?' \"No don't tell me that!\" 'What if?!' 'The end!'\n",
      " 'Awesome!'\n",
      " \"Birmingham Wholesale Market is ablaze BBC News - Fire breaks out at Birmingham's Wholesale Market http://t.co/irWqCEZWEU\"\n",
      " '@sunkxssedharry will you wear shorts for race ablaze ?'\n",
      " '@bbcmtd Wholesale Markets ablaze http://t.co/lHYXEOHY6C'\n",
      " 'We always try to bring the heavy. #metal #RT http://t.co/YAo1e0xngw']\n"
     ]
    }
   ],
   "source": [
    "print(all_tweets[0:50])"
   ]
  },
  {
   "cell_type": "code",
   "execution_count": 13,
   "metadata": {},
   "outputs": [
    {
     "name": "stdout",
     "output_type": "stream",
     "text": [
      "14325\n"
     ]
    }
   ],
   "source": [
    "for tweet in all_tweets:\n",
    "    words = tweet.split()\n",
    "    for word in words:\n",
    "        if word.lower() not in vocabulary and word.isalnum():\n",
    "            vocabulary.append(word.lower())\n",
    "vocabulary = sorted(vocabulary)\n",
    "print(len(vocabulary))"
   ]
  },
  {
   "cell_type": "code",
   "execution_count": 15,
   "metadata": {},
   "outputs": [
    {
     "name": "stdout",
     "output_type": "stream",
     "text": [
      "14326\n"
     ]
    }
   ],
   "source": [
    "pad_char = \"$0$\"\n",
    "if pad_char not in vocabulary:\n",
    "    vocabulary.append(pad_char)\n",
    "vocab_size = len(vocabulary)\n",
    "print(vocab_size)"
   ]
  },
  {
   "cell_type": "code",
   "execution_count": 10,
   "metadata": {},
   "outputs": [
    {
     "name": "stdout",
     "output_type": "stream",
     "text": [
      "['0', '02', '03', '04', '05', '05th', '06', '061', '06jst', '06jst'] $0$\n"
     ]
    }
   ],
   "source": [
    "print(vocabulary[0:10], vocabulary[-1])"
   ]
  },
  {
   "cell_type": "markdown",
   "metadata": {},
   "source": [
    "Just keep the columns with features."
   ]
  },
  {
   "cell_type": "code",
   "execution_count": 16,
   "metadata": {},
   "outputs": [],
   "source": [
    "X = tweets.drop(labels=['choose_one'], axis=1).values\n",
    "y = tweets.choose_one.values"
   ]
  },
  {
   "cell_type": "code",
   "execution_count": 17,
   "metadata": {},
   "outputs": [
    {
     "name": "stdout",
     "output_type": "stream",
     "text": [
      "[['Just happened a terrible car crash']\n",
      " ['Our Deeds are the Reason of this #earthquake May ALLAH Forgive us all']\n",
      " ['Heard about #earthquake is different cities, stay safe everyone.']\n",
      " ['there is a forest fire at spot pond, geese are fleeing across the street, I cannot save them all']\n",
      " ['Forest fire near La Ronge Sask. Canada']\n",
      " [\"All residents asked to 'shelter in place' are being notified by officers. No other evacuation or shelter in place orders are expected\"]\n",
      " ['13,000 people receive #wildfires evacuation orders in California ']\n",
      " ['Just got sent this photo from Ruby #Alaska as smoke from #wildfires pours into a school ']\n",
      " ['#RockyFire Update => California Hwy. 20 closed in both directions due to Lake County fire - #CAfire #wildfires']\n",
      " ['Apocalypse lighting. #Spokane #wildfires']] [1 1 1 1 1 1 1 1 1 1]\n",
      "10876\n"
     ]
    }
   ],
   "source": [
    "print(X[:10], y[:10])\n",
    "print(len(X))"
   ]
  },
  {
   "cell_type": "code",
   "execution_count": 13,
   "metadata": {},
   "outputs": [],
   "source": [
    "X = [x[0].split() for x in X]"
   ]
  },
  {
   "cell_type": "code",
   "execution_count": 14,
   "metadata": {},
   "outputs": [
    {
     "name": "stdout",
     "output_type": "stream",
     "text": [
      "[['Just', 'happened', 'a', 'terrible', 'car', 'crash'], ['Our', 'Deeds', 'are', 'the', 'Reason', 'of', 'this', '#earthquake', 'May', 'ALLAH', 'Forgive', 'us', 'all'], ['Heard', 'about', '#earthquake', 'is', 'different', 'cities,', 'stay', 'safe', 'everyone.'], ['there', 'is', 'a', 'forest', 'fire', 'at', 'spot', 'pond,', 'geese', 'are', 'fleeing', 'across', 'the', 'street,', 'I', 'cannot', 'save', 'them', 'all'], ['Forest', 'fire', 'near', 'La', 'Ronge', 'Sask.', 'Canada'], ['All', 'residents', 'asked', 'to', \"'shelter\", 'in', \"place'\", 'are', 'being', 'notified', 'by', 'officers.', 'No', 'other', 'evacuation', 'or', 'shelter', 'in', 'place', 'orders', 'are', 'expected'], ['13,000', 'people', 'receive', '#wildfires', 'evacuation', 'orders', 'in', 'California'], ['Just', 'got', 'sent', 'this', 'photo', 'from', 'Ruby', '#Alaska', 'as', 'smoke', 'from', '#wildfires', 'pours', 'into', 'a', 'school'], ['#RockyFire', 'Update', '=>', 'California', 'Hwy.', '20', 'closed', 'in', 'both', 'directions', 'due', 'to', 'Lake', 'County', 'fire', '-', '#CAfire', '#wildfires'], ['Apocalypse', 'lighting.', '#Spokane', '#wildfires']] [0 0 0 0 0 0 0 0 0 0]\n"
     ]
    }
   ],
   "source": [
    "print(X[:10], y[:10])"
   ]
  },
  {
   "cell_type": "code",
   "execution_count": 20,
   "metadata": {},
   "outputs": [],
   "source": [
    "def string_to_vocab(lines):\n",
    "    X_onehot = []\n",
    "\n",
    "    for line in lines:\n",
    "        temp_X = np.array([vocabulary.index(word.lower()) for word in line if word.isalnum() or word == pad_char])\n",
    "        temp_oh_X = np.zeros((len(temp_X), vocab_size))\n",
    "        temp_oh_X[np.arange(len(temp_X)),temp_X] = 1\n",
    "        X_onehot.append(temp_oh_X)\n",
    "        \n",
    "    return X_onehot"
   ]
  },
  {
   "cell_type": "code",
   "execution_count": 16,
   "metadata": {},
   "outputs": [],
   "source": [
    "def string_to_word_ids(lines):\n",
    "    X_word_ids = []\n",
    "\n",
    "    for line in lines:\n",
    "        temp_X = np.array([vocabulary.index(word.lower()) for word in line if word.isalnum() or word == pad_char])\n",
    "        X_word_ids.append(temp_X)\n",
    "        \n",
    "    return X_word_ids"
   ]
  },
  {
   "cell_type": "code",
   "execution_count": 17,
   "metadata": {},
   "outputs": [
    {
     "data": {
      "text/plain": [
       "[array([21410, 15821,   537, 37350,  6717,  8724]),\n",
       " array([28393,  9594,  2799, 37595, 31189, 27528, 38753, 24100,  1878,\n",
       "        13881, 41124,  1788])]"
      ]
     },
     "execution_count": 17,
     "metadata": {},
     "output_type": "execute_result"
    }
   ],
   "source": [
    "string_to_word_ids([X[0], X[1]])"
   ]
  },
  {
   "cell_type": "code",
   "execution_count": 18,
   "metadata": {},
   "outputs": [],
   "source": [
    "def pad_to_max(X):\n",
    "    padded_X = []\n",
    "    cleared_X = []\n",
    "    \n",
    "    for x in X:\n",
    "        tempx = [word for word in x if word.isalnum()]\n",
    "        cleared_X.append(tempx)\n",
    "    # print(cleared_X)\n",
    "    \n",
    "    cleaned_lengths = [len(x) for x in cleared_X]\n",
    "    max_len = max(cleaned_lengths)\n",
    "    \n",
    "    for x in cleared_X:\n",
    "        tempx = [word for word in x if word.isalnum()]\n",
    "        tempx.extend([pad_char]*(max_len-len(x)))\n",
    "        padded_X.append(tempx)\n",
    "    \n",
    "    return padded_X, cleaned_lengths"
   ]
  },
  {
   "cell_type": "code",
   "execution_count": 19,
   "metadata": {},
   "outputs": [],
   "source": [
    "def get_feed_dict(feed_X, feed_Y):\n",
    "    feed_dict = {}\n",
    "    feed_dict['data'], feed_dict['seq_length'] = pad_to_max(feed_X)\n",
    "    feed_dict['data'] = string_to_word_ids(feed_dict['data'])\n",
    "    feed_dict['labels'] = feed_Y\n",
    "    \n",
    "    return feed_dict"
   ]
  },
  {
   "cell_type": "code",
   "execution_count": 20,
   "metadata": {},
   "outputs": [
    {
     "name": "stdout",
     "output_type": "stream",
     "text": [
      "[['Just', 'happened', 'a', 'terrible', 'car', 'crash', '$0$', '$0$', '$0$', '$0$', '$0$', '$0$', '$0$', '$0$', '$0$', '$0$', '$0$', '$0$', '$0$'], ['Our', 'Deeds', 'are', 'the', 'Reason', 'of', 'this', 'May', 'ALLAH', 'Forgive', 'us', 'all', '$0$', '$0$', '$0$', '$0$', '$0$', '$0$', '$0$'], ['Heard', 'about', 'is', 'different', 'stay', 'safe', '$0$', '$0$', '$0$', '$0$', '$0$', '$0$', '$0$', '$0$', '$0$', '$0$', '$0$', '$0$', '$0$'], ['there', 'is', 'a', 'forest', 'fire', 'at', 'spot', 'geese', 'are', 'fleeing', 'across', 'the', 'I', 'cannot', 'save', 'them', 'all', '$0$', '$0$'], ['Forest', 'fire', 'near', 'La', 'Ronge', 'Canada', '$0$', '$0$', '$0$', '$0$', '$0$', '$0$', '$0$', '$0$', '$0$', '$0$', '$0$', '$0$', '$0$'], ['All', 'residents', 'asked', 'to', 'in', 'are', 'being', 'notified', 'by', 'No', 'other', 'evacuation', 'or', 'shelter', 'in', 'place', 'orders', 'are', 'expected'], ['people', 'receive', 'evacuation', 'orders', 'in', 'California', '$0$', '$0$', '$0$', '$0$', '$0$', '$0$', '$0$', '$0$', '$0$', '$0$', '$0$', '$0$', '$0$'], ['Just', 'got', 'sent', 'this', 'photo', 'from', 'Ruby', 'as', 'smoke', 'from', 'pours', 'into', 'a', 'school', '$0$', '$0$', '$0$', '$0$', '$0$'], ['Update', 'California', '20', 'closed', 'in', 'both', 'directions', 'due', 'to', 'Lake', 'County', 'fire', '$0$', '$0$', '$0$', '$0$', '$0$', '$0$', '$0$'], ['Apocalypse', '$0$', '$0$', '$0$', '$0$', '$0$', '$0$', '$0$', '$0$', '$0$', '$0$', '$0$', '$0$', '$0$', '$0$', '$0$', '$0$', '$0$', '$0$']]\n",
      "[6, 12, 6, 17, 6, 19, 6, 14, 12, 1]\n"
     ]
    }
   ],
   "source": [
    "print_x = pad_to_max(X[0:10])\n",
    "\n",
    "for x in print_x:\n",
    "    print(x)"
   ]
  },
  {
   "cell_type": "code",
   "execution_count": 21,
   "metadata": {},
   "outputs": [
    {
     "name": "stdout",
     "output_type": "stream",
     "text": [
      "{'data': [array([21410, 15821,   537, 37350,  6717,  8724, 44531, 44531, 44531,\n",
      "       44531, 44531, 44531, 44531, 44531, 44531, 44531, 44531, 44531,\n",
      "       44531]), array([28393,  9594,  2799, 37595, 31189, 27528, 38753, 24100,  1878,\n",
      "       13881, 41124,  1788, 44531, 44531, 44531, 44531, 44531, 44531,\n",
      "       44531]), array([16271,  1051, 20452, 10161, 35872, 32913, 44531, 44531, 44531,\n",
      "       44531, 44531, 44531, 44531, 44531, 44531, 44531, 44531, 44531,\n",
      "       44531]), array([38559, 20452,   537, 13824, 13169,  3301, 35540, 14670,  2799,\n",
      "       13481,  1209, 37595, 17493,  6660, 33225, 38513,  1788, 44531,\n",
      "       44531]), array([13824, 13169, 26075, 21980, 32434,  6628, 44531, 44531, 44531,\n",
      "       44531, 44531, 44531, 44531, 44531, 44531, 44531, 44531, 44531,\n",
      "       44531]), array([ 1788, 31831,  3235, 39336, 19597,  2799,  4469, 27045,  6178,\n",
      "       26659, 28374, 12013, 28274, 34165, 19597, 29560, 28326,  2799,\n",
      "       12238]), array([29144, 31218, 12013, 28326, 19597,  6372, 44531, 44531, 44531,\n",
      "       44531, 44531, 44531, 44531, 44531, 44531, 44531, 44531, 44531,\n",
      "       44531]), array([21410, 15238, 33770, 38753, 29323, 14143, 32702,  3118, 34857,\n",
      "       14143, 30103, 20251,   537, 33348, 44531, 44531, 44531, 44531,\n",
      "       44531]), array([41040,  6372,   164,  7768, 19597,  5369, 10216, 10983, 39336,\n",
      "       22072,  8589, 13169, 44531, 44531, 44531, 44531, 44531, 44531,\n",
      "       44531]), array([ 2650, 44531, 44531, 44531, 44531, 44531, 44531, 44531, 44531,\n",
      "       44531, 44531, 44531, 44531, 44531, 44531, 44531, 44531, 44531,\n",
      "       44531])], 'seq_length': [6, 12, 6, 17, 6, 19, 6, 14, 12, 1], 'labels': array([0, 0, 0, 0, 0, 0, 0, 0, 0, 0], dtype=int64)}\n"
     ]
    }
   ],
   "source": [
    "print(get_feed_dict(X[0:10], y[0:10]))"
   ]
  },
  {
   "cell_type": "code",
   "execution_count": 22,
   "metadata": {},
   "outputs": [],
   "source": [
    "seed = 123\n",
    "np.random.seed(seed)\n",
    "tf.set_random_seed(seed)"
   ]
  },
  {
   "cell_type": "markdown",
   "metadata": {},
   "source": [
    "Randomly select indexes to use for training."
   ]
  },
  {
   "cell_type": "code",
   "execution_count": 23,
   "metadata": {},
   "outputs": [],
   "source": [
    "train_index = np.random.choice(len(X), round(len(X) * 0.6), replace=False)"
   ]
  },
  {
   "cell_type": "code",
   "execution_count": 24,
   "metadata": {},
   "outputs": [
    {
     "data": {
      "text/plain": [
       "(array([ 7405, 10573,  2013, ...,  4736,  2978,  1604]), 6526)"
      ]
     },
     "execution_count": 24,
     "metadata": {},
     "output_type": "execute_result"
    }
   ],
   "source": [
    "train_index, len(train_index)"
   ]
  },
  {
   "cell_type": "code",
   "execution_count": 25,
   "metadata": {},
   "outputs": [],
   "source": [
    "test_index = np.array(list(set(range(len(X))) - set(train_index)))\n",
    "X = np.array(X)\n",
    "train_X = X[train_index]\n",
    "train_y = y[train_index]\n",
    "test_X = X[test_index]\n",
    "test_y = y[test_index]"
   ]
  },
  {
   "cell_type": "code",
   "execution_count": 26,
   "metadata": {},
   "outputs": [
    {
     "data": {
      "text/plain": [
       "(array([8192,    1, 8194, ..., 8188, 8189, 8191]), 4350)"
      ]
     },
     "execution_count": 26,
     "metadata": {},
     "output_type": "execute_result"
    }
   ],
   "source": [
    "test_index, len(test_index)"
   ]
  },
  {
   "cell_type": "code",
   "execution_count": 27,
   "metadata": {},
   "outputs": [
    {
     "data": {
      "text/plain": [
       "(array([list([\"I'm\", 'about', 'to', 'be', 'obliterated']),\n",
       "        list(['#Insurance:', 'Texas', 'Seeks', 'Comment', 'on', 'Rules', 'for', 'Changes', 'to', 'Windstorm', 'Insurer', 'http://t.co/rb02svlpPu']),\n",
       "        list(['lets', 'hope', 'this', 'concert', 'ends', 'with', 'zero', 'casualties', 'amen']),\n",
       "        list(['Storm', 'in', 'RI', 'worse', 'than', 'last', 'hurricane.', 'My', 'city&amp;3others', 'hardest', 'hit.', 'My', 'yard', 'looks', 'like', 'it', 'was', 'bombed.', 'Around', '20000K', 'still', 'without', 'power']),\n",
       "        list(['Tell', '@BarackObama', 'to', 'rescind', 'medals', 'of', \"'honor'\", 'given', 'to', 'US', 'soldiers', 'at', 'the', 'Massacre', 'of', 'Wounded', 'Knee.', 'SIGN', 'NOW', '&amp;', 'RT!', 'https://t.co/u4r8dRiuAc']),\n",
       "        list([\"I'm\", 'more', 'into', 'the', 'healing/reviving', 'side', 'of', 'the', 'game', 'rather', 'than', 'better', 'attacking', 'so', 'for', 'now', 'Siren', '&gt;', 'all', 'other', 'characters', '(except', 'new', 'girl).']),\n",
       "        list(['Remove', 'the', 'http://t.co/OP2NObtoul', 'and', 'Linkury', 'Browser', 'Hijacker', 'http://t.co/JjKlf2PlX7', 'http://t.co/t3OQgw0Ce7']),\n",
       "        list(['Wreckage', 'is', 'MH370:', 'Najib', 'http://t.co/iidKC0jSBx', '#MH370', '#najibrazak', '#MalaysiaAirlines']),\n",
       "        list(['Detonation', 'fashionable', 'mountaineering', 'electronic', 'watch', 'water-resistant', 'couples', 'leisure', 'tab‰Û_', 'http://t.co/g6hjTj3SDy', 'http://t.co/yydEghGP64']),\n",
       "        list(['FB', 'page', 'of', 'Bushman', \"Safari's\", 'Zimbabwe', 'the', 'company', 'that', 'Palmer', 'used', '2', 'kill', 'Cecil', 'is', 'inundated', 'with', 'negative', 'commentes', 'https://t.co/QwIIhNMChR'])],\n",
       "       dtype=object), array([1, 1, 1, 0, 0, 1, 1, 0, 1, 1], dtype=int64))"
      ]
     },
     "execution_count": 27,
     "metadata": {},
     "output_type": "execute_result"
    }
   ],
   "source": [
    "train_X[0:10], train_y[0:10]"
   ]
  },
  {
   "cell_type": "markdown",
   "metadata": {},
   "source": [
    "### Building Tensorflow Graph\n",
    "Let's start building Tensorflow model. Tensorflow is a graph based framework. So we have to build the whole graph of our model before we start any kind of training. For most ML problems, the graph building process is pretty straight forward.\n",
    "\n",
    "- Step 1: Define placeholders for input Data and Labels.\n",
    "- Step 2: Pass the Data through the layers.\n",
    "- Step 3: Define a loss function.\n",
    "- Step 4: Apply Gradient Descent (or other optimisers) on the loss."
   ]
  },
  {
   "cell_type": "markdown",
   "metadata": {},
   "source": [
    "Placeholders are special type of Tensorflow variables. These variables don't hold any particular values and are used as input nodes to the graph. The data is fed to these variables in order to Train the model or infer using the model.\n",
    "\n",
    "- \"data\" is used for data input. The shape is Batch Size x Input Features. \n",
    "- \"labels\" is used for output labels. Batch Size x Output Space\n",
    "\n",
    "To keep the batch size \"variable\", we use None instead of a specific Batch Size."
   ]
  },
  {
   "cell_type": "code",
   "execution_count": 28,
   "metadata": {},
   "outputs": [],
   "source": [
    "data = tf.placeholder(dtype=tf.int32, shape=[None, None], name='Data_Input')\n",
    "labels = tf.placeholder(dtype=tf.float32, shape=[None, 1], name='Labels_Input')\n",
    "seq_lengths = tf.placeholder(dtype=tf.int32, shape=[None], name='Seq_Lengths')\n",
    "keep_prob = tf.placeholder(dtype=tf.float32, shape=[], name=\"dropout\")"
   ]
  },
  {
   "cell_type": "code",
   "execution_count": 29,
   "metadata": {},
   "outputs": [
    {
     "data": {
      "text/plain": [
       "<tf.Tensor 'Data_Input:0' shape=(?, ?) dtype=int32>"
      ]
     },
     "execution_count": 29,
     "metadata": {},
     "output_type": "execute_result"
    }
   ],
   "source": [
    "data"
   ]
  },
  {
   "cell_type": "code",
   "execution_count": 30,
   "metadata": {},
   "outputs": [
    {
     "data": {
      "text/plain": [
       "TensorShape([Dimension(None), Dimension(None)])"
      ]
     },
     "execution_count": 30,
     "metadata": {},
     "output_type": "execute_result"
    }
   ],
   "source": [
    "data.shape"
   ]
  },
  {
   "cell_type": "markdown",
   "metadata": {},
   "source": [
    "Now pass the data through all layers."
   ]
  },
  {
   "cell_type": "code",
   "execution_count": 31,
   "metadata": {},
   "outputs": [],
   "source": [
    "word_embeddings = tf.one_hot(data, vocab_size)"
   ]
  },
  {
   "cell_type": "code",
   "execution_count": 32,
   "metadata": {},
   "outputs": [
    {
     "name": "stdout",
     "output_type": "stream",
     "text": [
      "WARNING:tensorflow:From C:\\Users\\hmadhu\\AppData\\Local\\Continuum\\anaconda3\\lib\\site-packages\\tensorflow\\python\\ops\\rnn.py:417: calling reverse_sequence (from tensorflow.python.ops.array_ops) with seq_dim is deprecated and will be removed in a future version.\n",
      "Instructions for updating:\n",
      "seq_dim is deprecated, use seq_axis instead\n",
      "WARNING:tensorflow:From C:\\Users\\hmadhu\\AppData\\Local\\Continuum\\anaconda3\\lib\\site-packages\\tensorflow\\python\\util\\deprecation.py:432: calling reverse_sequence (from tensorflow.python.ops.array_ops) with batch_dim is deprecated and will be removed in a future version.\n",
      "Instructions for updating:\n",
      "batch_dim is deprecated, use batch_axis instead\n"
     ]
    }
   ],
   "source": [
    "size_lstm = 32\n",
    "\n",
    "cell_fw = tf.contrib.rnn.LSTMCell(size_lstm)\n",
    "cell_bw = tf.contrib.rnn.LSTMCell(size_lstm)\n",
    "\n",
    "(output_fw, output_bw), _ = tf.nn.bidirectional_dynamic_rnn(\n",
    "    cell_fw, cell_bw, word_embeddings,\n",
    "    sequence_length=seq_lengths, dtype=tf.float32)\n",
    "\n",
    "lstm = tf.concat([output_fw, output_bw], axis=-1)\n",
    "output = tf.nn.dropout(lstm, keep_prob)\n",
    "\n",
    "lstm_shape = tf.shape(output)\n",
    "reshaped_lstm = tf.reshape(output, [lstm_shape[1], lstm_shape[0], lstm_shape[2]])\n",
    "output = tf.reshape(reshaped_lstm[-1], [-1, 2*size_lstm])"
   ]
  },
  {
   "cell_type": "code",
   "execution_count": 33,
   "metadata": {},
   "outputs": [],
   "source": [
    "logits = tf.layers.dense(output, units=1)"
   ]
  },
  {
   "cell_type": "markdown",
   "metadata": {},
   "source": [
    "Once we have the logits calculated, lets add the loss operation. Since we're doing logistic regression, the loss function is sigmoid cross entropy."
   ]
  },
  {
   "cell_type": "code",
   "execution_count": 34,
   "metadata": {},
   "outputs": [
    {
     "data": {
      "text/plain": [
       "<tf.Tensor 'loss:0' shape=() dtype=string>"
      ]
     },
     "execution_count": 34,
     "metadata": {},
     "output_type": "execute_result"
    }
   ],
   "source": [
    "loss = tf.reduce_mean(tf.nn.sigmoid_cross_entropy_with_logits(logits=logits, labels=labels))\n",
    "tf.summary.scalar('loss', loss)"
   ]
  },
  {
   "cell_type": "code",
   "execution_count": 49,
   "metadata": {},
   "outputs": [],
   "source": [
    "learning_rate = 0.003\n",
    "batch_size = 32\n",
    "iter_num = 10000"
   ]
  },
  {
   "cell_type": "markdown",
   "metadata": {},
   "source": [
    "To train our model, we iterate on the parameter values such that the loss is minimized. To reduce the loss, we have multiple Optimizers available. Let's use Gradient Descent."
   ]
  },
  {
   "cell_type": "code",
   "execution_count": 36,
   "metadata": {},
   "outputs": [],
   "source": [
    "opt = tf.train.AdamOptimizer(learning_rate)"
   ]
  },
  {
   "cell_type": "code",
   "execution_count": 37,
   "metadata": {},
   "outputs": [],
   "source": [
    "goal = opt.minimize(loss)"
   ]
  },
  {
   "cell_type": "markdown",
   "metadata": {},
   "source": [
    "Prediction and Accuracy utility operations."
   ]
  },
  {
   "cell_type": "code",
   "execution_count": 38,
   "metadata": {},
   "outputs": [
    {
     "data": {
      "text/plain": [
       "<tf.Tensor 'accuracy_1:0' shape=() dtype=string>"
      ]
     },
     "execution_count": 38,
     "metadata": {},
     "output_type": "execute_result"
    }
   ],
   "source": [
    "# Define the accuracy\n",
    "# The default threshold is 0.5, rounded off directly\n",
    "prediction = tf.round(tf.sigmoid(logits), name='Prediction')\n",
    "# Bool into float32 type\n",
    "correct = tf.cast(tf.equal(prediction, labels), dtype=tf.float32)\n",
    "# Average\n",
    "accuracy = tf.reduce_mean(correct, name='Accuracy')\n",
    "\n",
    "tf.summary.scalar('accuracy', accuracy)\n",
    "# End of the definition of the model framework"
   ]
  },
  {
   "cell_type": "code",
   "execution_count": 39,
   "metadata": {},
   "outputs": [],
   "source": [
    "merged = tf.summary.merge_all()"
   ]
  },
  {
   "cell_type": "code",
   "execution_count": 40,
   "metadata": {},
   "outputs": [],
   "source": [
    "loss_trace = []\n",
    "train_acc = []\n",
    "test_acc = []"
   ]
  },
  {
   "cell_type": "markdown",
   "metadata": {},
   "source": [
    "### Training / Evaluating the model\n",
    "Up until now, we have just built the graph of model in Tensorflow. Now we will start trainig and evaluating the model. To use the model:\n",
    "- Initialise the model.\n",
    "- To \"Train\" the model: feed data and labels and process the model till the \"goal\" operation.\n",
    "- To \"Evaluate\" the model: provide data and lables and process till \"accuracy\" operation."
   ]
  },
  {
   "cell_type": "markdown",
   "metadata": {},
   "source": [
    "Initialisation is pretty standard. We get a session object after initialisation and this session object is used to interact with the graph."
   ]
  },
  {
   "cell_type": "code",
   "execution_count": 41,
   "metadata": {},
   "outputs": [],
   "source": [
    "init = tf.global_variables_initializer()\n",
    "sess = tf.Session()\n",
    "sess.run(init)"
   ]
  },
  {
   "cell_type": "code",
   "execution_count": 42,
   "metadata": {},
   "outputs": [],
   "source": [
    "train_writer = tf.summary.FileWriter('./text_classification_logs', sess.graph)"
   ]
  },
  {
   "cell_type": "markdown",
   "metadata": {},
   "source": [
    "To train the model:\n",
    "- Get a batch of data and labels.\n",
    "- Feed data and labels to the graph.\n",
    "- Check the Train and Test data accuracy."
   ]
  },
  {
   "cell_type": "code",
   "execution_count": 53,
   "metadata": {},
   "outputs": [
    {
     "name": "stdout",
     "output_type": "stream",
     "text": [
      "epoch:   10 loss: 0.668085 test_acc: 0.718750\n",
      "epoch:   20 loss: 0.708822 test_acc: 0.562500\n",
      "epoch:   30 loss: 0.686509 test_acc: 0.531250\n",
      "epoch:   40 loss: 0.684896 test_acc: 0.562500\n",
      "epoch:   50 loss: 0.692255 test_acc: 0.375000\n",
      "epoch:   60 loss: 0.666667 test_acc: 0.437500\n",
      "epoch:   70 loss: 0.705506 test_acc: 0.531250\n",
      "epoch:   80 loss: 0.694603 test_acc: 0.656250\n",
      "epoch:   90 loss: 0.637766 test_acc: 0.687500\n",
      "epoch:  100 loss: 0.715525 test_acc: 0.656250\n",
      "epoch:  110 loss: 0.673455 test_acc: 0.562500\n",
      "epoch:  120 loss: 0.689842 test_acc: 0.562500\n",
      "epoch:  130 loss: 0.701924 test_acc: 0.812500\n",
      "epoch:  140 loss: 0.720809 test_acc: 0.687500\n",
      "epoch:  150 loss: 0.647502 test_acc: 0.562500\n",
      "epoch:  160 loss: 0.677364 test_acc: 0.593750\n",
      "epoch:  170 loss: 0.683296 test_acc: 0.468750\n",
      "epoch:  180 loss: 0.673130 test_acc: 0.531250\n",
      "epoch:  190 loss: 0.667238 test_acc: 0.500000\n",
      "epoch:  200 loss: 0.645324 test_acc: 0.281250\n",
      "epoch:  210 loss: 0.666663 test_acc: 0.468750\n",
      "epoch:  220 loss: 0.704174 test_acc: 0.625000\n",
      "epoch:  230 loss: 0.675342 test_acc: 0.656250\n",
      "epoch:  240 loss: 0.659119 test_acc: 0.562500\n",
      "epoch:  250 loss: 0.708082 test_acc: 0.406250\n",
      "epoch:  260 loss: 0.685692 test_acc: 0.625000\n",
      "epoch:  270 loss: 0.690268 test_acc: 0.437500\n",
      "epoch:  280 loss: 0.709969 test_acc: 0.500000\n",
      "epoch:  290 loss: 0.710870 test_acc: 0.562500\n",
      "epoch:  300 loss: 0.665416 test_acc: 0.406250\n",
      "epoch:  310 loss: 0.707832 test_acc: 0.500000\n"
     ]
    },
    {
     "ename": "KeyboardInterrupt",
     "evalue": "",
     "traceback": [
      "\u001b[1;31m---------------------------------------------------------------------------\u001b[0m",
      "\u001b[1;31mKeyboardInterrupt\u001b[0m                         Traceback (most recent call last)",
      "\u001b[1;32m<ipython-input-53-66ecc3c95c0b>\u001b[0m in \u001b[0;36m<module>\u001b[1;34m()\u001b[0m\n\u001b[0;32m     10\u001b[0m                                                      \u001b[0mlabels\u001b[0m\u001b[1;33m:\u001b[0m \u001b[0mfeed_dict\u001b[0m\u001b[1;33m[\u001b[0m\u001b[1;34m'labels'\u001b[0m\u001b[1;33m]\u001b[0m\u001b[1;33m,\u001b[0m\u001b[1;33m\u001b[0m\u001b[0m\n\u001b[0;32m     11\u001b[0m                                                      \u001b[0mseq_lengths\u001b[0m\u001b[1;33m:\u001b[0m \u001b[0mfeed_dict\u001b[0m\u001b[1;33m[\u001b[0m\u001b[1;34m'seq_length'\u001b[0m\u001b[1;33m]\u001b[0m\u001b[1;33m,\u001b[0m\u001b[1;33m\u001b[0m\u001b[0m\n\u001b[1;32m---> 12\u001b[1;33m                                                      keep_prob: 0.5})\n\u001b[0m\u001b[0;32m     13\u001b[0m \u001b[1;33m\u001b[0m\u001b[0m\n\u001b[0;32m     14\u001b[0m     temp_loss = sess.run(loss, feed_dict={data: feed_dict['data'],\n",
      "\u001b[1;32m~\\AppData\\Local\\Continuum\\anaconda3\\lib\\site-packages\\tensorflow\\python\\client\\session.py\u001b[0m in \u001b[0;36mrun\u001b[1;34m(self, fetches, feed_dict, options, run_metadata)\u001b[0m\n\u001b[0;32m    898\u001b[0m     \u001b[1;32mtry\u001b[0m\u001b[1;33m:\u001b[0m\u001b[1;33m\u001b[0m\u001b[0m\n\u001b[0;32m    899\u001b[0m       result = self._run(None, fetches, feed_dict, options_ptr,\n\u001b[1;32m--> 900\u001b[1;33m                          run_metadata_ptr)\n\u001b[0m\u001b[0;32m    901\u001b[0m       \u001b[1;32mif\u001b[0m \u001b[0mrun_metadata\u001b[0m\u001b[1;33m:\u001b[0m\u001b[1;33m\u001b[0m\u001b[0m\n\u001b[0;32m    902\u001b[0m         \u001b[0mproto_data\u001b[0m \u001b[1;33m=\u001b[0m \u001b[0mtf_session\u001b[0m\u001b[1;33m.\u001b[0m\u001b[0mTF_GetBuffer\u001b[0m\u001b[1;33m(\u001b[0m\u001b[0mrun_metadata_ptr\u001b[0m\u001b[1;33m)\u001b[0m\u001b[1;33m\u001b[0m\u001b[0m\n",
      "\u001b[1;32m~\\AppData\\Local\\Continuum\\anaconda3\\lib\\site-packages\\tensorflow\\python\\client\\session.py\u001b[0m in \u001b[0;36m_run\u001b[1;34m(self, handle, fetches, feed_dict, options, run_metadata)\u001b[0m\n\u001b[0;32m   1133\u001b[0m     \u001b[1;32mif\u001b[0m \u001b[0mfinal_fetches\u001b[0m \u001b[1;32mor\u001b[0m \u001b[0mfinal_targets\u001b[0m \u001b[1;32mor\u001b[0m \u001b[1;33m(\u001b[0m\u001b[0mhandle\u001b[0m \u001b[1;32mand\u001b[0m \u001b[0mfeed_dict_tensor\u001b[0m\u001b[1;33m)\u001b[0m\u001b[1;33m:\u001b[0m\u001b[1;33m\u001b[0m\u001b[0m\n\u001b[0;32m   1134\u001b[0m       results = self._do_run(handle, final_targets, final_fetches,\n\u001b[1;32m-> 1135\u001b[1;33m                              feed_dict_tensor, options, run_metadata)\n\u001b[0m\u001b[0;32m   1136\u001b[0m     \u001b[1;32melse\u001b[0m\u001b[1;33m:\u001b[0m\u001b[1;33m\u001b[0m\u001b[0m\n\u001b[0;32m   1137\u001b[0m       \u001b[0mresults\u001b[0m \u001b[1;33m=\u001b[0m \u001b[1;33m[\u001b[0m\u001b[1;33m]\u001b[0m\u001b[1;33m\u001b[0m\u001b[0m\n",
      "\u001b[1;32m~\\AppData\\Local\\Continuum\\anaconda3\\lib\\site-packages\\tensorflow\\python\\client\\session.py\u001b[0m in \u001b[0;36m_do_run\u001b[1;34m(self, handle, target_list, fetch_list, feed_dict, options, run_metadata)\u001b[0m\n\u001b[0;32m   1314\u001b[0m     \u001b[1;32mif\u001b[0m \u001b[0mhandle\u001b[0m \u001b[1;32mis\u001b[0m \u001b[1;32mNone\u001b[0m\u001b[1;33m:\u001b[0m\u001b[1;33m\u001b[0m\u001b[0m\n\u001b[0;32m   1315\u001b[0m       return self._do_call(_run_fn, feeds, fetches, targets, options,\n\u001b[1;32m-> 1316\u001b[1;33m                            run_metadata)\n\u001b[0m\u001b[0;32m   1317\u001b[0m     \u001b[1;32melse\u001b[0m\u001b[1;33m:\u001b[0m\u001b[1;33m\u001b[0m\u001b[0m\n\u001b[0;32m   1318\u001b[0m       \u001b[1;32mreturn\u001b[0m \u001b[0mself\u001b[0m\u001b[1;33m.\u001b[0m\u001b[0m_do_call\u001b[0m\u001b[1;33m(\u001b[0m\u001b[0m_prun_fn\u001b[0m\u001b[1;33m,\u001b[0m \u001b[0mhandle\u001b[0m\u001b[1;33m,\u001b[0m \u001b[0mfeeds\u001b[0m\u001b[1;33m,\u001b[0m \u001b[0mfetches\u001b[0m\u001b[1;33m)\u001b[0m\u001b[1;33m\u001b[0m\u001b[0m\n",
      "\u001b[1;32m~\\AppData\\Local\\Continuum\\anaconda3\\lib\\site-packages\\tensorflow\\python\\client\\session.py\u001b[0m in \u001b[0;36m_do_call\u001b[1;34m(self, fn, *args)\u001b[0m\n\u001b[0;32m   1320\u001b[0m   \u001b[1;32mdef\u001b[0m \u001b[0m_do_call\u001b[0m\u001b[1;33m(\u001b[0m\u001b[0mself\u001b[0m\u001b[1;33m,\u001b[0m \u001b[0mfn\u001b[0m\u001b[1;33m,\u001b[0m \u001b[1;33m*\u001b[0m\u001b[0margs\u001b[0m\u001b[1;33m)\u001b[0m\u001b[1;33m:\u001b[0m\u001b[1;33m\u001b[0m\u001b[0m\n\u001b[0;32m   1321\u001b[0m     \u001b[1;32mtry\u001b[0m\u001b[1;33m:\u001b[0m\u001b[1;33m\u001b[0m\u001b[0m\n\u001b[1;32m-> 1322\u001b[1;33m       \u001b[1;32mreturn\u001b[0m \u001b[0mfn\u001b[0m\u001b[1;33m(\u001b[0m\u001b[1;33m*\u001b[0m\u001b[0margs\u001b[0m\u001b[1;33m)\u001b[0m\u001b[1;33m\u001b[0m\u001b[0m\n\u001b[0m\u001b[0;32m   1323\u001b[0m     \u001b[1;32mexcept\u001b[0m \u001b[0merrors\u001b[0m\u001b[1;33m.\u001b[0m\u001b[0mOpError\u001b[0m \u001b[1;32mas\u001b[0m \u001b[0me\u001b[0m\u001b[1;33m:\u001b[0m\u001b[1;33m\u001b[0m\u001b[0m\n\u001b[0;32m   1324\u001b[0m       \u001b[0mmessage\u001b[0m \u001b[1;33m=\u001b[0m \u001b[0mcompat\u001b[0m\u001b[1;33m.\u001b[0m\u001b[0mas_text\u001b[0m\u001b[1;33m(\u001b[0m\u001b[0me\u001b[0m\u001b[1;33m.\u001b[0m\u001b[0mmessage\u001b[0m\u001b[1;33m)\u001b[0m\u001b[1;33m\u001b[0m\u001b[0m\n",
      "\u001b[1;32m~\\AppData\\Local\\Continuum\\anaconda3\\lib\\site-packages\\tensorflow\\python\\client\\session.py\u001b[0m in \u001b[0;36m_run_fn\u001b[1;34m(feed_dict, fetch_list, target_list, options, run_metadata)\u001b[0m\n\u001b[0;32m   1305\u001b[0m       \u001b[0mself\u001b[0m\u001b[1;33m.\u001b[0m\u001b[0m_extend_graph\u001b[0m\u001b[1;33m(\u001b[0m\u001b[1;33m)\u001b[0m\u001b[1;33m\u001b[0m\u001b[0m\n\u001b[0;32m   1306\u001b[0m       return self._call_tf_sessionrun(\n\u001b[1;32m-> 1307\u001b[1;33m           options, feed_dict, fetch_list, target_list, run_metadata)\n\u001b[0m\u001b[0;32m   1308\u001b[0m \u001b[1;33m\u001b[0m\u001b[0m\n\u001b[0;32m   1309\u001b[0m     \u001b[1;32mdef\u001b[0m \u001b[0m_prun_fn\u001b[0m\u001b[1;33m(\u001b[0m\u001b[0mhandle\u001b[0m\u001b[1;33m,\u001b[0m \u001b[0mfeed_dict\u001b[0m\u001b[1;33m,\u001b[0m \u001b[0mfetch_list\u001b[0m\u001b[1;33m)\u001b[0m\u001b[1;33m:\u001b[0m\u001b[1;33m\u001b[0m\u001b[0m\n",
      "\u001b[1;32m~\\AppData\\Local\\Continuum\\anaconda3\\lib\\site-packages\\tensorflow\\python\\client\\session.py\u001b[0m in \u001b[0;36m_call_tf_sessionrun\u001b[1;34m(self, options, feed_dict, fetch_list, target_list, run_metadata)\u001b[0m\n\u001b[0;32m   1407\u001b[0m       return tf_session.TF_SessionRun_wrapper(\n\u001b[0;32m   1408\u001b[0m           \u001b[0mself\u001b[0m\u001b[1;33m.\u001b[0m\u001b[0m_session\u001b[0m\u001b[1;33m,\u001b[0m \u001b[0moptions\u001b[0m\u001b[1;33m,\u001b[0m \u001b[0mfeed_dict\u001b[0m\u001b[1;33m,\u001b[0m \u001b[0mfetch_list\u001b[0m\u001b[1;33m,\u001b[0m \u001b[0mtarget_list\u001b[0m\u001b[1;33m,\u001b[0m\u001b[1;33m\u001b[0m\u001b[0m\n\u001b[1;32m-> 1409\u001b[1;33m           run_metadata)\n\u001b[0m\u001b[0;32m   1410\u001b[0m     \u001b[1;32melse\u001b[0m\u001b[1;33m:\u001b[0m\u001b[1;33m\u001b[0m\u001b[0m\n\u001b[0;32m   1411\u001b[0m       \u001b[1;32mwith\u001b[0m \u001b[0merrors\u001b[0m\u001b[1;33m.\u001b[0m\u001b[0mraise_exception_on_not_ok_status\u001b[0m\u001b[1;33m(\u001b[0m\u001b[1;33m)\u001b[0m \u001b[1;32mas\u001b[0m \u001b[0mstatus\u001b[0m\u001b[1;33m:\u001b[0m\u001b[1;33m\u001b[0m\u001b[0m\n",
      "\u001b[1;31mKeyboardInterrupt\u001b[0m: "
     ],
     "output_type": "error"
    }
   ],
   "source": [
    "# training model\n",
    "for epoch in range(iter_num):\n",
    "    # Generate random batch index\n",
    "    batch_index = np.random.choice(len(train_X), size=batch_size)\n",
    "    batch_train_X = train_X[batch_index]\n",
    "    batch_train_y = np.matrix(train_y[batch_index]).T\n",
    "    feed_dict = get_feed_dict(batch_train_X, batch_train_y)\n",
    "    \n",
    "    _, summary = sess.run([goal, merged], feed_dict={data: feed_dict['data'], \n",
    "                                                     labels: feed_dict['labels'],\n",
    "                                                     seq_lengths: feed_dict['seq_length'],\n",
    "                                                     keep_prob: 0.5})\n",
    "\n",
    "    temp_loss = sess.run(loss, feed_dict={data: feed_dict['data'],\n",
    "                                          labels: feed_dict['labels'],\n",
    "                                          seq_lengths: feed_dict['seq_length'],\n",
    "                                          keep_prob: 0.5})\n",
    "\n",
    "    # convert into a matrix, and the shape of the placeholder to correspond\n",
    "    \n",
    "    batch_index = np.random.choice(len(test_X), size=batch_size)\n",
    "    batch_test_X = test_X[batch_index]\n",
    "    batch_test_y = np.matrix(test_y[batch_index]).T\n",
    "    feed_dict = get_feed_dict(batch_test_X, batch_test_y)\n",
    "   \n",
    "    test_batch_acc = sess.run(accuracy, feed_dict={data: feed_dict['data'],\n",
    "                                                  labels: feed_dict['labels'],\n",
    "                                                  seq_lengths: feed_dict['seq_length'],\n",
    "                                                  keep_prob: 1})\n",
    "    \n",
    "    # recode the result\n",
    "    loss_trace.append(temp_loss)\n",
    "    test_acc.append(test_batch_acc)\n",
    "    \n",
    "    train_writer.add_summary(summary, epoch)\n",
    "    \n",
    "    # print('epoch: {:4d} loss: {:5f} test_acc: {:5f}'.format(epoch + 1, temp_loss, test_batch_acc))\n",
    "    # output\n",
    "    if (epoch + 1) % 10 == 0:\n",
    "        # print('epoch: {:4d} loss: {:5f} train_acc: {:5f} test_acc: {:5f}'.format(epoch + 1, temp_loss,\n",
    "        #                                                                  temp_train_acc, temp_test_acc))\n",
    "        print('epoch: {:4d} loss: {:5f} test_acc: {:5f}'.format(epoch + 1, temp_loss, test_batch_acc))"
   ]
  },
  {
   "cell_type": "code",
   "execution_count": 54,
   "metadata": {},
   "outputs": [
    {
     "data": {
      "image/png": "[encoded data removed]",
      "text/plain": [
       "<Figure size 432x288 with 1 Axes>"
      ]
     },
     "metadata": {},
     "output_type": "display_data"
    }
   ],
   "source": [
    "# Visualization of the results\n",
    "# loss function\n",
    "plt.plot(loss_trace)\n",
    "plt.title('Cross Entropy Loss')\n",
    "plt.xlabel('epoch')\n",
    "plt.ylabel('loss')\n",
    "plt.show()"
   ]
  },
  {
   "cell_type": "code",
   "execution_count": 55,
   "metadata": {},
   "outputs": [
    {
     "data": {
      "image/png": "[encoded data removed]",
      "text/plain": [
       "<Figure size 432x288 with 1 Axes>"
      ]
     },
     "metadata": {},
     "output_type": "display_data"
    }
   ],
   "source": [
    "plt.plot(train_acc, 'b-', label='train accuracy')\n",
    "plt.plot(test_acc, 'k-', label='test accuracy')\n",
    "plt.xlabel('epoch')\n",
    "plt.ylabel('accuracy')\n",
    "plt.title('Train and Test Accuracy')\n",
    "plt.legend(loc='best')\n",
    "plt.show()"
   ]
  },
  {
   "cell_type": "code",
   "execution_count": null,
   "metadata": {},
   "outputs": [],
   "source": [
    ""
   ]
  }
 ],
 "metadata": {
  "kernelspec": {
   "display_name": "Python 3",
   "language": "python",
   "name": "python3"
  },
  "language_info": {
   "codemirror_mode": {
    "name": "ipython",
    "version": 3.0
   },
   "file_extension": ".py",
   "mimetype": "text/x-python",
   "name": "python",
   "nbconvert_exporter": "python",
   "pygments_lexer": "ipython3",
   "version": "3.6.0"
  }
 },
 "nbformat": 4,
 "nbformat_minor": 0
}